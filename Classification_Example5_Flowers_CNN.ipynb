{
  "nbformat": 4,
  "nbformat_minor": 0,
  "metadata": {
    "colab": {
      "name": "Untitled11.ipynb",
      "provenance": [],
      "authorship_tag": "ABX9TyMj4fEHEyziL2JqoF0iXIDL"
    },
    "kernelspec": {
      "name": "python3",
      "display_name": "Python 3"
    }
  },
  "cells": [
    {
      "cell_type": "code",
      "metadata": {
        "id": "HbbtEXXb9hHK",
        "colab_type": "code",
        "colab": {}
      },
      "source": [
        ""
      ],
      "execution_count": 0,
      "outputs": []
    },
    {
      "cell_type": "markdown",
      "metadata": {
        "id": "TDB61Hy0MbN9",
        "colab_type": "text"
      },
      "source": [
        "#Differentiating Flower With CNNs"
      ]
    },
    {
      "cell_type": "markdown",
      "metadata": {
        "id": "btdp304pODVI",
        "colab_type": "text"
      },
      "source": [
        "##Importing Packages"
      ]
    },
    {
      "cell_type": "code",
      "metadata": {
        "id": "AjWaglb6Mg6d",
        "colab_type": "code",
        "colab": {}
      },
      "source": [
        "import os\n",
        "import numpy as np\n",
        "import glob\n",
        "import shutil\n",
        "\n",
        "import tensorflow as tf\n",
        "\n",
        "import matplotlib.pyplot as plt\n",
        "from tensorflow.keras.preprocessing.image import ImageDataGenerator"
      ],
      "execution_count": 0,
      "outputs": []
    },
    {
      "cell_type": "markdown",
      "metadata": {
        "id": "cMps-_-iMs49",
        "colab_type": "text"
      },
      "source": [
        "##Data Loading"
      ]
    },
    {
      "cell_type": "code",
      "metadata": {
        "id": "xoonhQrhMrL5",
        "colab_type": "code",
        "colab": {}
      },
      "source": [
        "_URL = \"https://storage.googleapis.com/download.tensorflow.org/example_images/flower_photos.tgz\"\n",
        "\n",
        "zip_file = tf.keras.utils.get_file(origin=_URL,\n",
        "                                   fname=\"flower_photos.tgz\",\n",
        "                                   extract=True)\n",
        "\n",
        "base_dir = os.path.join(os.path.dirname(zip_file), 'flower_photos')"
      ],
      "execution_count": 0,
      "outputs": []
    },
    {
      "cell_type": "code",
      "metadata": {
        "id": "xRB6ZnKgMxYN",
        "colab_type": "code",
        "colab": {}
      },
      "source": [
        "classes = ['roses', 'daisy', 'dandelion', 'sunflowers', 'tulips']"
      ],
      "execution_count": 0,
      "outputs": []
    },
    {
      "cell_type": "code",
      "metadata": {
        "id": "44Q7-YgIM3yX",
        "colab_type": "code",
        "colab": {}
      },
      "source": [
        "for cl in classes:\n",
        "  img_path = os.path.join(base_dir, cl)\n",
        "  images = glob.glob(img_path + '/*.jpg')\n",
        "  print(\"{}: {} Images\".format(cl, len(images)))\n",
        "  train, val = images[:round(len(images)*0.8)], images[round(len(images)*0.8):]\n",
        "\n",
        "  for t in train:\n",
        "    if not os.path.exists(os.path.join(base_dir, 'train', cl)):\n",
        "      os.makedirs(os.path.join(base_dir, 'train', cl))\n",
        "    shutil.move(t, os.path.join(base_dir, 'train', cl))\n",
        "\n",
        "  for v in val:\n",
        "    if not os.path.exists(os.path.join(base_dir, 'val', cl)):\n",
        "      os.makedirs(os.path.join(base_dir, 'val', cl))\n",
        "    shutil.move(v, os.path.join(base_dir, 'val', cl))"
      ],
      "execution_count": 0,
      "outputs": []
    },
    {
      "cell_type": "code",
      "metadata": {
        "id": "D5SSXz2cM4iN",
        "colab_type": "code",
        "colab": {}
      },
      "source": [
        "train_dir = os.path.join(base_dir, 'train')\n",
        "val_dir = os.path.join(base_dir, 'val')"
      ],
      "execution_count": 0,
      "outputs": []
    },
    {
      "cell_type": "markdown",
      "metadata": {
        "id": "1gP3sZIUM6UJ",
        "colab_type": "text"
      },
      "source": [
        "##Data Argumetation"
      ]
    },
    {
      "cell_type": "code",
      "metadata": {
        "id": "Es85FpV4M9DJ",
        "colab_type": "code",
        "colab": {}
      },
      "source": [
        "batch_size =100\n",
        "IMG_SHAPE = 150"
      ],
      "execution_count": 0,
      "outputs": []
    },
    {
      "cell_type": "code",
      "metadata": {
        "id": "VlqfiLmiNBkD",
        "colab_type": "code",
        "colab": {}
      },
      "source": [
        "# This function will plot images in the form of a grid with 1 row and 5 columns where images are placed in each column.\n",
        "def plotImages(images_arr):\n",
        "    fig, axes = plt.subplots(1, 5, figsize=(20,20))\n",
        "    axes = axes.flatten()\n",
        "    for img, ax in zip( images_arr, axes):\n",
        "        ax.imshow(img)\n",
        "    plt.tight_layout()\n",
        "    plt.show()\n"
      ],
      "execution_count": 0,
      "outputs": []
    },
    {
      "cell_type": "markdown",
      "metadata": {
        "id": "tJtDBOojNFFT",
        "colab_type": "text"
      },
      "source": [
        "###Random Horizontal flip"
      ]
    },
    {
      "cell_type": "code",
      "metadata": {
        "id": "q5Oa9ZtUNI7Y",
        "colab_type": "code",
        "colab": {}
      },
      "source": [
        "image_gen = ImageDataGenerator(\n",
        "    rescale=1./255,\n",
        "    horizontal_flip=True\n",
        ")\n",
        "\n",
        "train_data_gen = image_gen.flow_from_directory(batch_size=batch_size,\n",
        "                                               shuffle=True,\n",
        "                                               class_mode='binary',\n",
        "                                               directory=train_dir,\n",
        "                                               target_size=(IMG_SHAPE,IMG_SHAPE)\n",
        "                                               )"
      ],
      "execution_count": 0,
      "outputs": []
    },
    {
      "cell_type": "code",
      "metadata": {
        "id": "cKxnusPaNPDA",
        "colab_type": "code",
        "colab": {}
      },
      "source": [
        "augmented_images = [train_data_gen[0][0][0] for i in range(5)]\n",
        "plotImages(augmented_images)"
      ],
      "execution_count": 0,
      "outputs": []
    },
    {
      "cell_type": "markdown",
      "metadata": {
        "id": "rVi741OwNS6c",
        "colab_type": "text"
      },
      "source": [
        "###Random Rotation"
      ]
    },
    {
      "cell_type": "code",
      "metadata": {
        "id": "U5wSjUZGNXGi",
        "colab_type": "code",
        "colab": {}
      },
      "source": [
        "image_gen = ImageDataGenerator(\n",
        "    rescale=1./255,\n",
        "    rotation_range=45\n",
        ")\n",
        "\n",
        "train_data_gen = image_gen.flow_from_directory(class_mode='binary',\n",
        "                                               target_size=(IMG_SHAPE,IMG_SHAPE),\n",
        "                                               batch_size=batch_size,\n",
        "                                               shuffle=True,\n",
        "                                               directory=train_dir)"
      ],
      "execution_count": 0,
      "outputs": []
    },
    {
      "cell_type": "code",
      "metadata": {
        "id": "KTClqxD0NbNL",
        "colab_type": "code",
        "colab": {}
      },
      "source": [
        "augmented_images = [train_data_gen[0][0][0] for i in range(5)]\n",
        "plotImages(augmented_images)"
      ],
      "execution_count": 0,
      "outputs": []
    },
    {
      "cell_type": "markdown",
      "metadata": {
        "id": "B_VscaWNNf8N",
        "colab_type": "text"
      },
      "source": [
        "###Apply Zoom"
      ]
    },
    {
      "cell_type": "code",
      "metadata": {
        "id": "uNneWpQ8Nj03",
        "colab_type": "code",
        "colab": {}
      },
      "source": [
        "image_gen = ImageDataGenerator(\n",
        "    rescale=1./255,\n",
        "    zoom_range=0.5\n",
        ")\n",
        "\n",
        "train_data_gen = image_gen.flow_from_directory(batch_size=batch_size,\n",
        "                                               target_size=(IMG_SHAPE,IMG_SHAPE),\n",
        "                                               shuffle=True,\n",
        "                                               directory=train_dir,\n",
        "                                               class_mode='binary')"
      ],
      "execution_count": 0,
      "outputs": []
    },
    {
      "cell_type": "code",
      "metadata": {
        "id": "W8BtEiwPNia9",
        "colab_type": "code",
        "colab": {}
      },
      "source": [
        "augmented_images = [train_data_gen[0][0][0] for i in range(5)]\n",
        "plotImages(augmented_images)"
      ],
      "execution_count": 0,
      "outputs": []
    },
    {
      "cell_type": "markdown",
      "metadata": {
        "id": "NYjjhkT9NnbE",
        "colab_type": "text"
      },
      "source": [
        "###All Together"
      ]
    },
    {
      "cell_type": "code",
      "metadata": {
        "id": "dWpra2rsNpdL",
        "colab_type": "code",
        "colab": {}
      },
      "source": [
        "image_gen_train = ImageDataGenerator(\n",
        "    rescale=1./255,\n",
        "    horizontal_flip=True,\n",
        "    zoom_range=0.5,\n",
        "    rotation_range=45,\n",
        "    height_shift_range=0.3,\n",
        "    width_shift_range=0.3,\n",
        "    shear_range=0.3,\n",
        "    fill_mode='nearest'\n",
        ")\n",
        "\n",
        "\n",
        "train_data_gen = image_gen.flow_from_directory(batch_size=batch_size,\n",
        "                                               target_size=(IMG_SHAPE,IMG_SHAPE),\n",
        "                                               shuffle=True,\n",
        "                                               directory=train_dir,\n",
        "                                               class_mode='binary')"
      ],
      "execution_count": 0,
      "outputs": []
    },
    {
      "cell_type": "code",
      "metadata": {
        "id": "KpXiTea2Nrlm",
        "colab_type": "code",
        "colab": {}
      },
      "source": [
        "augmented_images = [train_data_gen[0][0][0] for i in range(5)]\n",
        "plotImages(augmented_images)"
      ],
      "execution_count": 0,
      "outputs": []
    },
    {
      "cell_type": "markdown",
      "metadata": {
        "id": "wA4zyYS2Nug1",
        "colab_type": "text"
      },
      "source": [
        "###Validation set"
      ]
    },
    {
      "cell_type": "code",
      "metadata": {
        "id": "QA9VyEwjNwkT",
        "colab_type": "code",
        "colab": {}
      },
      "source": [
        "image_gen_val = ImageDataGenerator(rescale=1./255)\n",
        "val_data_gen = image_gen.flow_from_directory(batch_size=batch_size,\n",
        "                                               target_size=(IMG_SHAPE,IMG_SHAPE),\n",
        "                                               directory=train_dir,\n",
        "                                               class_mode='binary')"
      ],
      "execution_count": 0,
      "outputs": []
    },
    {
      "cell_type": "markdown",
      "metadata": {
        "id": "nBJrxxidN0Uh",
        "colab_type": "text"
      },
      "source": [
        "##Creating Model"
      ]
    },
    {
      "cell_type": "markdown",
      "metadata": {
        "id": "IEnVOBdJN2mK",
        "colab_type": "text"
      },
      "source": [
        "####Creating Layers"
      ]
    },
    {
      "cell_type": "code",
      "metadata": {
        "id": "dKADCZatN7Ms",
        "colab_type": "code",
        "colab": {}
      },
      "source": [
        "model = tf.keras.models.Sequential([\n",
        "                                    tf.keras.layers.Conv2D(16,(3,3),activation='relu',input_shape=(150,150,3)),\n",
        "                                    tf.keras.layers.MaxPooling2D(2,2),\n",
        "                                    tf.keras.layers.Conv2D(32,(3,3),activation='relu'),\n",
        "                                    tf.keras.layers.MaxPooling2D(2,2),\n",
        "                                    tf.keras.layers.Conv2D(64,(3,3),activation='relu'),\n",
        "                                    tf.keras.layers.MaxPooling2D(2,2),\n",
        "                                    tf.keras.layers.Dropout(0.2),\n",
        "                                    tf.keras.layers.Flatten(),\n",
        "                                    tf.keras.layers.Dense(512,activation='relu'),\n",
        "                                    tf.keras.layers.Dense(5,activation='softmax')\n",
        "                                    ])"
      ],
      "execution_count": 0,
      "outputs": []
    },
    {
      "cell_type": "code",
      "metadata": {
        "id": "YI-0lm6qOJld",
        "colab_type": "code",
        "colab": {}
      },
      "source": [
        "model.compile(optimizer='adam',\n",
        "              loss=tf.keras.losses.SparseCategoricalCrossentropy(from_logits=True),\n",
        "              metrics=['accuracy'])"
      ],
      "execution_count": 0,
      "outputs": []
    },
    {
      "cell_type": "markdown",
      "metadata": {
        "id": "HAwxiIpsOKOW",
        "colab_type": "text"
      },
      "source": [
        "###Training Model"
      ]
    },
    {
      "cell_type": "code",
      "metadata": {
        "id": "-pkqUq2yOMXp",
        "colab_type": "code",
        "colab": {}
      },
      "source": [
        "epochs = 80\n",
        "\n",
        "history = model.fit_generator(train_data_gen,\n",
        "                              epochs=epochs,\n",
        "                              validation_data=val_data_gen,\n",
        "                              steps_per_epoch=int(np.ceil(train_data_gen.n / float(batch_size))),\n",
        "                              validation_steps=int(np.ceil(val_data_gen.n / float(batch_size))))"
      ],
      "execution_count": 0,
      "outputs": []
    },
    {
      "cell_type": "markdown",
      "metadata": {
        "id": "-_sgp2mnOZGY",
        "colab_type": "text"
      },
      "source": [
        "##Result"
      ]
    },
    {
      "cell_type": "code",
      "metadata": {
        "id": "b3AhaOYnObCG",
        "colab_type": "code",
        "colab": {}
      },
      "source": [
        "acc = history.history['accuracy']\n",
        "val_acc = history.history['val_accuracy']\n",
        "\n",
        "loss = history.history['loss']\n",
        "val_loss = history.history['val_loss']\n",
        "\n",
        "epochs_range = range(epochs)\n",
        "\n",
        "\n",
        "plt.figure(figsize=(20, 8))\n",
        "plt.subplot(1, 2, 1)\n",
        "plt.plot(epochs_range, acc, label='Training Accuracy')\n",
        "plt.plot(epochs_range, val_acc, label='Validation Accuracy')\n",
        "plt.legend(loc='lower right')\n",
        "plt.title('Training and Validation Accuracy')\n",
        "\n",
        "plt.subplot(1, 2, 2)\n",
        "plt.plot(epochs_range, loss, label='Training Loss')\n",
        "plt.plot(epochs_range, val_loss, label='Validation Loss')\n",
        "plt.legend(loc='upper right')\n",
        "plt.title('Training and Validation Loss')\n",
        "plt.show()"
      ],
      "execution_count": 0,
      "outputs": []
    }
  ]
}