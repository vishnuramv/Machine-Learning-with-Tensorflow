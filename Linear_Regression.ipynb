{
  "nbformat": 4,
  "nbformat_minor": 0,
  "metadata": {
    "colab": {
      "name": "Untitled5.ipynb",
      "provenance": [],
      "authorship_tag": "ABX9TyNE8y8+7srDv7u/B+n80VwV",
      "include_colab_link": true
    },
    "kernelspec": {
      "name": "python3",
      "display_name": "Python 3"
    }
  },
  "cells": [
    {
      "cell_type": "markdown",
      "metadata": {
        "id": "view-in-github",
        "colab_type": "text"
      },
      "source": [
        "<a href=\"https://colab.research.google.com/github/vvishnu-1902/Machine-Learning-with-Tensorflow/blob/master/Linear_Regression.ipynb\" target=\"_parent\"><img src=\"https://colab.research.google.com/assets/colab-badge.svg\" alt=\"Open In Colab\"/></a>"
      ]
    },
    {
      "cell_type": "markdown",
      "metadata": {
        "id": "vkiqty3M4hyx",
        "colab_type": "text"
      },
      "source": [
        "#Linear Regression Model to Predict Centimeter When Inch is Given"
      ]
    },
    {
      "cell_type": "markdown",
      "metadata": {
        "id": "Ic117XfH5EZa",
        "colab_type": "text"
      },
      "source": [
        "####Importing Tensorflow as tf And Numpy as np"
      ]
    },
    {
      "cell_type": "code",
      "metadata": {
        "id": "Mx_q5iYI02Ka",
        "colab_type": "code",
        "colab": {}
      },
      "source": [
        "import tensorflow as tf\n",
        "import numpy as np\n",
        "import logging"
      ],
      "execution_count": 0,
      "outputs": []
    },
    {
      "cell_type": "code",
      "metadata": {
        "id": "F76-L7oX1Dpu",
        "colab_type": "code",
        "colab": {}
      },
      "source": [
        "logger=tf.get_logger()\n",
        "logger.setLevel(logging.ERROR)"
      ],
      "execution_count": 0,
      "outputs": []
    },
    {
      "cell_type": "markdown",
      "metadata": {
        "id": "TDgUuK_s5MVo",
        "colab_type": "text"
      },
      "source": [
        "###Creating Training Array"
      ]
    },
    {
      "cell_type": "code",
      "metadata": {
        "id": "JF5q4dp31VPz",
        "colab_type": "code",
        "colab": {}
      },
      "source": [
        "inch=np.array([1 , 5 , 8 , 13 , 20 , 28 , 50 , 68 , 99] , dtype=float)\n",
        "cm=np.array([2.54 , 12.7 , 20.32 , 33.02 , 50.8 , 71.12 , 127 , 172.72 , 251.46] , dtype=float)"
      ],
      "execution_count": 0,
      "outputs": []
    },
    {
      "cell_type": "code",
      "metadata": {
        "id": "Ae5-l0vf2VG2",
        "colab_type": "code",
        "colab": {}
      },
      "source": [
        "for i,c in enumerate(inch):\n",
        "  print(\"{} inches = {} cm\".format(c, cm[i]))"
      ],
      "execution_count": 0,
      "outputs": []
    },
    {
      "cell_type": "markdown",
      "metadata": {
        "id": "7QDdqU9S5Z2g",
        "colab_type": "text"
      },
      "source": [
        "###Training the Model"
      ]
    },
    {
      "cell_type": "code",
      "metadata": {
        "id": "tGZ8UnBF3NxO",
        "colab_type": "code",
        "colab": {}
      },
      "source": [
        "l0 = tf.keras.layers.Dense(units=1, input_shape=[1])"
      ],
      "execution_count": 0,
      "outputs": []
    },
    {
      "cell_type": "code",
      "metadata": {
        "id": "ZzBrv-oZ3js7",
        "colab_type": "code",
        "colab": {}
      },
      "source": [
        "model = tf.keras.Sequential([l0])"
      ],
      "execution_count": 0,
      "outputs": []
    },
    {
      "cell_type": "code",
      "metadata": {
        "id": "Bl7xrnvo3ouX",
        "colab_type": "code",
        "colab": {}
      },
      "source": [
        "model.compile(loss='mean_squared_error', optimizer=tf.keras.optimizers.Adam(0.1))"
      ],
      "execution_count": 0,
      "outputs": []
    },
    {
      "cell_type": "code",
      "metadata": {
        "id": "qfzsFhmU3x8c",
        "colab_type": "code",
        "colab": {}
      },
      "source": [
        "history = model.fit(inch, cm, epochs=500, verbose=False)\n",
        "print(\"Finished training the model\")"
      ],
      "execution_count": 0,
      "outputs": []
    },
    {
      "cell_type": "code",
      "metadata": {
        "id": "vtC4mGrc4Jh6",
        "colab_type": "code",
        "colab": {}
      },
      "source": [
        "history"
      ],
      "execution_count": 0,
      "outputs": []
    },
    {
      "cell_type": "code",
      "metadata": {
        "id": "IZzk9mNk35xR",
        "colab_type": "code",
        "colab": {}
      },
      "source": [
        "import matplotlib.pyplot as plt\n",
        "plt.xlabel('Epoch Number')\n",
        "plt.ylabel(\"Loss Magnitude\")\n",
        "plt.plot(history.history['loss'])"
      ],
      "execution_count": 0,
      "outputs": []
    },
    {
      "cell_type": "markdown",
      "metadata": {
        "id": "DkUzYNld5nJ_",
        "colab_type": "text"
      },
      "source": [
        "###Testing the Model"
      ]
    },
    {
      "cell_type": "code",
      "metadata": {
        "id": "9PPvhXza4N-W",
        "colab_type": "code",
        "colab": {}
      },
      "source": [
        "print(model.predict([129]))"
      ],
      "execution_count": 0,
      "outputs": []
    }
  ]
}