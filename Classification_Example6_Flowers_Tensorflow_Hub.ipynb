{
  "nbformat": 4,
  "nbformat_minor": 0,
  "metadata": {
    "colab": {
      "name": "Untitled11.ipynb",
      "provenance": [],
      "authorship_tag": "ABX9TyM7wW3vMbIxJFx238iCyjBw"
    },
    "kernelspec": {
      "name": "python3",
      "display_name": "Python 3"
    }
  },
  "cells": [
    {
      "cell_type": "markdown",
      "metadata": {
        "id": "UuHdedYgwgYB",
        "colab_type": "text"
      },
      "source": [
        "#Differentiating Flower With CNNs with TensorFlow"
      ]
    },
    {
      "cell_type": "markdown",
      "metadata": {
        "id": "3UFHPmfdw2JP",
        "colab_type": "text"
      },
      "source": [
        "##Importing Packages"
      ]
    },
    {
      "cell_type": "code",
      "metadata": {
        "id": "9G_IN8XgwzQm",
        "colab_type": "code",
        "colab": {}
      },
      "source": [
        "import tensorflow as tf\n",
        "import numpy as np\n",
        "import matplotlib.pyplot as plt\n",
        "import time\n",
        "import tensorflow_hub as hub\n",
        "import tensorflow_datasets as tfds\n",
        "import urllib\n",
        "import cv2\n",
        "import os\n",
        "from tensorflow.keras import layers\n",
        "import logging\n",
        "logger = tf.get_logger()\n",
        "logger.setLevel(logging.ERROR)"
      ],
      "execution_count": 0,
      "outputs": []
    },
    {
      "cell_type": "markdown",
      "metadata": {
        "id": "mCGCGX6bxEkP",
        "colab_type": "text"
      },
      "source": [
        "##Loading The Dataset"
      ]
    },
    {
      "cell_type": "code",
      "metadata": {
        "id": "98bE-oWjxKGo",
        "colab_type": "code",
        "colab": {}
      },
      "source": [
        "splits = ['train[:70%]','train[70%:]']\n",
        "\n",
        "(training_set, validation_set), dataset_info = tfds.load('tf_flowers',\n",
        "                                                         split=splits,\n",
        "                                                         with_info=True,\n",
        "                                                         as_supervised=True)\n",
        "num_training_examples=dataset_info.splits['train[70%:]'].num_examples\n",
        "num_validation_examples=dataset_info.splits['train[:70%]'].num_examples\n",
        "num_classes=dataset_info.features['label'].num_classes"
      ],
      "execution_count": 0,
      "outputs": []
    },
    {
      "cell_type": "code",
      "metadata": {
        "id": "h6QRbGy-xM36",
        "colab_type": "code",
        "colab": {}
      },
      "source": [
        "print('Total Number of Classes: {}'.format(num_classes))\n",
        "print('Total Number of Training Images: {}'.format(num_training_examples))\n",
        "print('Total Number of Validation Images: {} \\n'.format(num_validation_examples))\n",
        "type(training_set)"
      ],
      "execution_count": 0,
      "outputs": []
    },
    {
      "cell_type": "code",
      "metadata": {
        "id": "kg1sbSx6xPHd",
        "colab_type": "code",
        "colab": {}
      },
      "source": [
        "for i, example in enumerate(training_set.take(5)):\n",
        "  print('Image {} shape: {} label: {}'.format(i+1, example[0].shape, example[1]))"
      ],
      "execution_count": 0,
      "outputs": []
    },
    {
      "cell_type": "code",
      "metadata": {
        "id": "2xU7wZasxT63",
        "colab_type": "code",
        "colab": {}
      },
      "source": [
        "IMAGE_RES = 224\n",
        "\n",
        "def format_image(image, label):\n",
        "  image = tf.image.resize(image, (IMAGE_RES, IMAGE_RES))/255.0\n",
        "  return image, label\n",
        "\n",
        "BATCH_SIZE = 32\n",
        "\n",
        "train_batches = training_set.shuffle(num_training_examples//4).map(format_image).batch(BATCH_SIZE).prefetch(1)\n",
        "\n",
        "validation_batches = validation_set.map(format_image).batch(BATCH_SIZE).prefetch(1)"
      ],
      "execution_count": 0,
      "outputs": []
    },
    {
      "cell_type": "markdown",
      "metadata": {
        "id": "aH9dJsDMxV84",
        "colab_type": "text"
      },
      "source": [
        "##Building Model"
      ]
    },
    {
      "cell_type": "code",
      "metadata": {
        "id": "iZRB6_1rxclh",
        "colab_type": "code",
        "colab": {}
      },
      "source": [
        "URL = \"https://tfhub.dev/google/tf2-preview/mobilenet_v2/feature_vector/4\"\n",
        "feature_extractor = hub.KerasLayer(URL,\n",
        "                                   input_shape=(IMAGE_RES, IMAGE_RES, 3))"
      ],
      "execution_count": 0,
      "outputs": []
    },
    {
      "cell_type": "code",
      "metadata": {
        "id": "oqhsEPhSxgy1",
        "colab_type": "code",
        "colab": {}
      },
      "source": [
        "feature_extractor.trainable=False"
      ],
      "execution_count": 0,
      "outputs": []
    },
    {
      "cell_type": "code",
      "metadata": {
        "id": "1jC5L1m0xiyE",
        "colab_type": "code",
        "colab": {}
      },
      "source": [
        "model = tf.keras.Sequential([\n",
        "  feature_extractor,\n",
        "  layers.Dense(num_classes)\n",
        "])\n",
        "\n",
        "model.summary()"
      ],
      "execution_count": 0,
      "outputs": []
    },
    {
      "cell_type": "markdown",
      "metadata": {
        "id": "kgpglW-mxo0Z",
        "colab_type": "text"
      },
      "source": [
        "##Training the Model"
      ]
    },
    {
      "cell_type": "code",
      "metadata": {
        "id": "si8-35MLxksN",
        "colab_type": "code",
        "colab": {}
      },
      "source": [
        "model.compile(\n",
        "  optimizer='adam',\n",
        "  loss=tf.keras.losses.SparseCategoricalCrossentropy(from_logits=True),\n",
        "  metrics=['accuracy'])\n",
        "\n",
        "EPOCHS = 6\n",
        "\n",
        "history = model.fit(train_batches,\n",
        "                    epochs=6,\n",
        "                    validation_data = validation_batches\n",
        "                    )"
      ],
      "execution_count": 0,
      "outputs": []
    },
    {
      "cell_type": "markdown",
      "metadata": {
        "id": "cwIwnge8x0_F",
        "colab_type": "text"
      },
      "source": [
        "##Predictions"
      ]
    },
    {
      "cell_type": "code",
      "metadata": {
        "id": "FNodwOp6x3yR",
        "colab_type": "code",
        "colab": {}
      },
      "source": [
        "class_names = np.array(dataset_info.features['label'].names)\n",
        "\n",
        "print(class_names)\n"
      ],
      "execution_count": 0,
      "outputs": []
    },
    {
      "cell_type": "code",
      "metadata": {
        "id": "v8NalECTx7ol",
        "colab_type": "code",
        "colab": {}
      },
      "source": [
        "image_batch, label_batch = next(iter(train_batches))\n",
        "\n",
        "\n",
        "image_batch = image_batch.numpy()\n",
        "label_batch = label_batch.numpy()\n",
        "\n",
        "\n",
        "\n",
        "predicted_batch = model.predict(image_batch)\n",
        "predicted_batch = tf.squeeze(predicted_batch).numpy()\n",
        "\n",
        "predicted_ids = np.argmax(predicted_batch, axis=-1)\n",
        "predicted_class_names = class_names[predicted_ids]\n",
        "\n",
        "print(predicted_class_names)\n"
      ],
      "execution_count": 0,
      "outputs": []
    },
    {
      "cell_type": "code",
      "metadata": {
        "id": "8rvYLg7nx-Mx",
        "colab_type": "code",
        "colab": {}
      },
      "source": [
        "print(\"Labels:           \", label_batch)\n",
        "print(\"Predicted labels: \", predicted_ids)"
      ],
      "execution_count": 0,
      "outputs": []
    },
    {
      "cell_type": "markdown",
      "metadata": {
        "id": "dAgko98KyCGt",
        "colab_type": "text"
      },
      "source": [
        "##Result"
      ]
    },
    {
      "cell_type": "code",
      "metadata": {
        "id": "cvweNU19yAGb",
        "colab_type": "code",
        "colab": {}
      },
      "source": [
        "plt.figure(figsize=(10,9))\n",
        "for n in range(30):\n",
        "  plt.subplot(6,5,n+1)\n",
        "  plt.subplots_adjust(hspace = 0.3)\n",
        "  plt.imshow(image_batch[n])\n",
        "  color = \"blue\" if predicted_ids[n] == label_batch[n] else \"red\"\n",
        "  plt.title(predicted_class_names[n].title(), color=color)\n",
        "  plt.axis('off')\n",
        "_ = plt.suptitle(\"Model predictions (blue: correct, red: incorrect)\")"
      ],
      "execution_count": 0,
      "outputs": []
    },
    {
      "cell_type": "markdown",
      "metadata": {
        "id": "mR5bI9gJyGqr",
        "colab_type": "text"
      },
      "source": [
        "##Predicting single image"
      ]
    },
    {
      "cell_type": "code",
      "metadata": {
        "id": "xMdzJUWqyMhA",
        "colab_type": "code",
        "colab": {}
      },
      "source": [
        "Path='./rose/daisy.jpeg'\n",
        "imagess=cv2.imread(Path)\n",
        "imagess=cv2.cvtColor(imagess, cv2.COLOR_BGR2RGB)\n",
        "imagess=cv2.resize(imagess,(224,224))\n",
        "labelss='daisy'\n",
        "plt.imshow(imagess)\n",
        "imagess = np.expand_dims(imagess, 0)\n",
        "plt.title(labelss.title())\n",
        "result = model.predict(imagess)\n",
        "predicted = tf.squeeze(result).numpy()\n",
        "predicted_id = np.argmax(predicted, axis=-1)\n",
        "predicted_class_namess=class_names[predicted_id]\n",
        "color = \"white\" if predicted_class_namess == labelss else \"red\"\n",
        "plt.title(predicted_class_namess.title(),color=color,fontsize=50)\n",
        "plt.axis('off')\n",
        "plt.show()"
      ],
      "execution_count": 0,
      "outputs": []
    },
    {
      "cell_type": "code",
      "metadata": {
        "id": "HbbtEXXb9hHK",
        "colab_type": "code",
        "colab": {}
      },
      "source": [
        ""
      ],
      "execution_count": 0,
      "outputs": []
    }
  ]
}
